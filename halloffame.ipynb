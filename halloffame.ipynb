{
 "cells": [
  {
   "cell_type": "code",
   "execution_count": 22,
   "metadata": {},
   "outputs": [],
   "source": [
    "import requests\n",
    "from bs4 import BeautifulSoup  \n",
    "import pandas as pd\n",
    "import matplotlib.pyplot as plt\n",
    "import seaborn as sns"
   ]
  },
  {
   "cell_type": "markdown",
   "metadata": {},
   "source": [
    "# GET the webpage\n",
    "and check the status code to know it was successful"
   ]
  },
  {
   "cell_type": "code",
   "execution_count": 2,
   "metadata": {},
   "outputs": [
    {
     "data": {
      "text/plain": [
       "200"
      ]
     },
     "execution_count": 2,
     "metadata": {},
     "output_type": "execute_result"
    }
   ],
   "source": [
    "website_url = 'https://countrymusichalloffame.org/hall-of-fame/members/'\n",
    "response = requests.get(website_url)\n",
    "\n",
    "response.status_code"
   ]
  },
  {
   "cell_type": "markdown",
   "metadata": {},
   "source": [
    "# EXTRACT data from html "
   ]
  },
  {
   "cell_type": "code",
   "execution_count": 3,
   "metadata": {},
   "outputs": [
    {
     "name": "stdout",
     "output_type": "stream",
     "text": [
      "<title>Hall of Fame Members | Country Music Hall of Fame</title>\n"
     ]
    }
   ],
   "source": [
    "music = BeautifulSoup(response.content, 'lxml')\n",
    "print(music.title)"
   ]
  },
  {
   "cell_type": "markdown",
   "metadata": {},
   "source": [
    "# Place the data \n",
    "separate objects unless put into a list"
   ]
  },
  {
   "cell_type": "code",
   "execution_count": 4,
   "metadata": {
    "scrolled": true
   },
   "outputs": [
    {
     "data": {
      "text/plain": [
       "[<div class=\"vertical-card_content--title\">\n",
       " <h3>Roy Acuff</h3>\n",
       " </div>,\n",
       " <div class=\"vertical-card_content--title\">\n",
       " <h3>Alabama</h3>\n",
       " </div>,\n",
       " <div class=\"vertical-card_content--title\">\n",
       " <h3>Bill Anderson</h3>\n",
       " </div>,\n",
       " <div class=\"vertical-card_content--title\">\n",
       " <h3>Eddy Arnold</h3>\n",
       " </div>,\n",
       " <div class=\"vertical-card_content--title\">\n",
       " <h3>Chet Atkins</h3>\n",
       " </div>,\n",
       " <div class=\"vertical-card_content--title\">\n",
       " <h3>Gene Autry</h3>\n",
       " </div>,\n",
       " <div class=\"vertical-card_content--title\">\n",
       " <h3>DeFord Bailey</h3>\n",
       " </div>,\n",
       " <div class=\"vertical-card_content--title\">\n",
       " <h3>Bobby Bare</h3>\n",
       " </div>,\n",
       " <div class=\"vertical-card_content--title\">\n",
       " <h3>Johnny Bond</h3>\n",
       " </div>]"
      ]
     },
     "execution_count": 4,
     "metadata": {},
     "output_type": "execute_result"
    }
   ],
   "source": [
    "names = music.find_all('div', attrs = {'class': 'vertical-card_content--title'})\n",
    "names"
   ]
  },
  {
   "cell_type": "markdown",
   "metadata": {},
   "source": [
    "# Loop to clean data"
   ]
  },
  {
   "cell_type": "code",
   "execution_count": 5,
   "metadata": {},
   "outputs": [
    {
     "name": "stdout",
     "output_type": "stream",
     "text": [
      "['Roy Acuff', 'Alabama', 'Bill Anderson', 'Eddy Arnold', 'Chet Atkins', 'Gene Autry', 'DeFord Bailey', 'Bobby Bare', 'Johnny Bond']\n"
     ]
    },
    {
     "data": {
      "text/plain": [
       "bs4.element.ResultSet"
      ]
     },
     "execution_count": 5,
     "metadata": {},
     "output_type": "execute_result"
    }
   ],
   "source": [
    "artists = []\n",
    "for i in range(len(names)):\n",
    "    name = names[i].get_text().replace(\"\\n\", \"\")\n",
    "    artists.append(name)\n",
    "print(artists)\n",
    "type(names)"
   ]
  },
  {
   "cell_type": "markdown",
   "metadata": {},
   "source": [
    "# Again for the years"
   ]
  },
  {
   "cell_type": "markdown",
   "metadata": {},
   "source": [
    "year = []\n",
    "for element in x:\n",
    "    year.append(element.strip())\n",
    "\n",
    "print(year)\n",
    "\n"
   ]
  },
  {
   "cell_type": "markdown",
   "metadata": {},
   "source": [
    ".get_text()"
   ]
  },
  {
   "cell_type": "code",
   "execution_count": 6,
   "metadata": {
    "scrolled": true
   },
   "outputs": [
    {
     "data": {
      "text/plain": [
       "bs4.element.ResultSet"
      ]
     },
     "execution_count": 6,
     "metadata": {},
     "output_type": "execute_result"
    }
   ],
   "source": [
    "years = music.find_all('div', attrs = {'class': 'vertical-card_content--copy'})\n",
    "type(years)"
   ]
  },
  {
   "cell_type": "code",
   "execution_count": 7,
   "metadata": {},
   "outputs": [
    {
     "name": "stdout",
     "output_type": "stream",
     "text": [
      "['1962', '2005', '2001', '1966', '1973', '1969', '2005', '2013', '1999']\n"
     ]
    }
   ],
   "source": [
    "inducted = []\n",
    "for i in range(len(years)):\n",
    "    yr = years[i].get_text().replace(\"\\n\", \"\").replace(\"Inducted \", \"\").strip()\n",
    "    inducted.append(yr)\n",
    "print(inducted)"
   ]
  },
  {
   "cell_type": "markdown",
   "metadata": {},
   "source": [
    "# Make names and years into a df"
   ]
  },
  {
   "cell_type": "code",
   "execution_count": 8,
   "metadata": {},
   "outputs": [
    {
     "data": {
      "text/html": [
       "<div>\n",
       "<style scoped>\n",
       "    .dataframe tbody tr th:only-of-type {\n",
       "        vertical-align: middle;\n",
       "    }\n",
       "\n",
       "    .dataframe tbody tr th {\n",
       "        vertical-align: top;\n",
       "    }\n",
       "\n",
       "    .dataframe thead th {\n",
       "        text-align: right;\n",
       "    }\n",
       "</style>\n",
       "<table border=\"1\" class=\"dataframe\">\n",
       "  <thead>\n",
       "    <tr style=\"text-align: right;\">\n",
       "      <th></th>\n",
       "      <th>Name</th>\n",
       "      <th>Inducted</th>\n",
       "    </tr>\n",
       "  </thead>\n",
       "  <tbody>\n",
       "    <tr>\n",
       "      <th>0</th>\n",
       "      <td>Roy Acuff</td>\n",
       "      <td>1962</td>\n",
       "    </tr>\n",
       "    <tr>\n",
       "      <th>1</th>\n",
       "      <td>Alabama</td>\n",
       "      <td>2005</td>\n",
       "    </tr>\n",
       "    <tr>\n",
       "      <th>2</th>\n",
       "      <td>Bill Anderson</td>\n",
       "      <td>2001</td>\n",
       "    </tr>\n",
       "    <tr>\n",
       "      <th>3</th>\n",
       "      <td>Eddy Arnold</td>\n",
       "      <td>1966</td>\n",
       "    </tr>\n",
       "    <tr>\n",
       "      <th>4</th>\n",
       "      <td>Chet Atkins</td>\n",
       "      <td>1973</td>\n",
       "    </tr>\n",
       "    <tr>\n",
       "      <th>5</th>\n",
       "      <td>Gene Autry</td>\n",
       "      <td>1969</td>\n",
       "    </tr>\n",
       "    <tr>\n",
       "      <th>6</th>\n",
       "      <td>DeFord Bailey</td>\n",
       "      <td>2005</td>\n",
       "    </tr>\n",
       "    <tr>\n",
       "      <th>7</th>\n",
       "      <td>Bobby Bare</td>\n",
       "      <td>2013</td>\n",
       "    </tr>\n",
       "    <tr>\n",
       "      <th>8</th>\n",
       "      <td>Johnny Bond</td>\n",
       "      <td>1999</td>\n",
       "    </tr>\n",
       "  </tbody>\n",
       "</table>\n",
       "</div>"
      ],
      "text/plain": [
       "            Name Inducted\n",
       "0      Roy Acuff     1962\n",
       "1        Alabama     2005\n",
       "2  Bill Anderson     2001\n",
       "3    Eddy Arnold     1966\n",
       "4    Chet Atkins     1973\n",
       "5     Gene Autry     1969\n",
       "6  DeFord Bailey     2005\n",
       "7     Bobby Bare     2013\n",
       "8    Johnny Bond     1999"
      ]
     },
     "execution_count": 8,
     "metadata": {},
     "output_type": "execute_result"
    }
   ],
   "source": [
    "combo =pd.DataFrame(list(zip(artists,inducted)),columns=['Name','Inducted'])\n",
    "combo"
   ]
  },
  {
   "cell_type": "markdown",
   "metadata": {},
   "source": [
    "# Combine and GET all URLs"
   ]
  },
  {
   "cell_type": "code",
   "execution_count": 9,
   "metadata": {},
   "outputs": [
    {
     "data": {
      "text/plain": [
       "'https://countrymusichalloffame.org/hall-of-fame/members'"
      ]
     },
     "execution_count": 9,
     "metadata": {},
     "output_type": "execute_result"
    }
   ],
   "source": [
    "home_url = str('https://countrymusichalloffame.org/hall-of-fame/members')\n",
    "home_url"
   ]
  },
  {
   "cell_type": "code",
   "execution_count": 42,
   "metadata": {},
   "outputs": [
    {
     "data": {
      "text/plain": [
       "['https://countrymusichalloffame.org/hall-of-fame/members',\n",
       " 'https://countrymusichalloffame.org/hall-of-fame/members/page/2',\n",
       " 'https://countrymusichalloffame.org/hall-of-fame/members/page/3',\n",
       " 'https://countrymusichalloffame.org/hall-of-fame/members/page/4',\n",
       " 'https://countrymusichalloffame.org/hall-of-fame/members/page/5',\n",
       " 'https://countrymusichalloffame.org/hall-of-fame/members/page/6',\n",
       " 'https://countrymusichalloffame.org/hall-of-fame/members/page/7',\n",
       " 'https://countrymusichalloffame.org/hall-of-fame/members/page/8',\n",
       " 'https://countrymusichalloffame.org/hall-of-fame/members/page/9',\n",
       " 'https://countrymusichalloffame.org/hall-of-fame/members/page/10',\n",
       " 'https://countrymusichalloffame.org/hall-of-fame/members/page/11',\n",
       " 'https://countrymusichalloffame.org/hall-of-fame/members/page/12',\n",
       " 'https://countrymusichalloffame.org/hall-of-fame/members/page/13',\n",
       " 'https://countrymusichalloffame.org/hall-of-fame/members/page/14',\n",
       " 'https://countrymusichalloffame.org/hall-of-fame/members/page/15',\n",
       " 'https://countrymusichalloffame.org/hall-of-fame/members/page/16']"
      ]
     },
     "execution_count": 42,
     "metadata": {},
     "output_type": "execute_result"
    }
   ],
   "source": [
    "pages = [home_url]\n",
    "page = 2\n",
    "for n in range(15):\n",
    "    address = home_url+'/page/'+str(page)\n",
    "    pages.append(address)\n",
    "    page +=1\n",
    "for i in pages:\n",
    "    get_pages = requests.get(i)\n",
    "    page_soup = BeautifulSoup(get_pages.content, 'lxml')\n",
    "pages"
   ]
  },
  {
   "cell_type": "code",
   "execution_count": 53,
   "metadata": {},
   "outputs": [
    {
     "data": {
      "text/plain": [
       "(['Hank Williams',\n",
       "  'Bob Wills',\n",
       "  'Mac Wiseman',\n",
       "  'Tammy Wynette',\n",
       "  'Faron Young',\n",
       "  'Hank Williams',\n",
       "  'Bob Wills',\n",
       "  'Mac Wiseman',\n",
       "  'Tammy Wynette',\n",
       "  'Faron Young',\n",
       "  'Hank Williams',\n",
       "  'Bob Wills',\n",
       "  'Mac Wiseman',\n",
       "  'Tammy Wynette',\n",
       "  'Faron Young',\n",
       "  'Hank Williams',\n",
       "  'Bob Wills',\n",
       "  'Mac Wiseman',\n",
       "  'Tammy Wynette',\n",
       "  'Faron Young',\n",
       "  'Hank Williams',\n",
       "  'Bob Wills',\n",
       "  'Mac Wiseman',\n",
       "  'Tammy Wynette',\n",
       "  'Faron Young',\n",
       "  'Hank Williams',\n",
       "  'Bob Wills',\n",
       "  'Mac Wiseman',\n",
       "  'Tammy Wynette',\n",
       "  'Faron Young',\n",
       "  'Hank Williams',\n",
       "  'Bob Wills',\n",
       "  'Mac Wiseman',\n",
       "  'Tammy Wynette',\n",
       "  'Faron Young',\n",
       "  'Hank Williams',\n",
       "  'Bob Wills',\n",
       "  'Mac Wiseman',\n",
       "  'Tammy Wynette',\n",
       "  'Faron Young',\n",
       "  'Hank Williams',\n",
       "  'Bob Wills',\n",
       "  'Mac Wiseman',\n",
       "  'Tammy Wynette',\n",
       "  'Faron Young',\n",
       "  'Hank Williams',\n",
       "  'Bob Wills',\n",
       "  'Mac Wiseman',\n",
       "  'Tammy Wynette',\n",
       "  'Faron Young',\n",
       "  'Hank Williams',\n",
       "  'Bob Wills',\n",
       "  'Mac Wiseman',\n",
       "  'Tammy Wynette',\n",
       "  'Faron Young',\n",
       "  'Hank Williams',\n",
       "  'Bob Wills',\n",
       "  'Mac Wiseman',\n",
       "  'Tammy Wynette',\n",
       "  'Faron Young',\n",
       "  'Hank Williams',\n",
       "  'Bob Wills',\n",
       "  'Mac Wiseman',\n",
       "  'Tammy Wynette',\n",
       "  'Faron Young',\n",
       "  'Hank Williams',\n",
       "  'Bob Wills',\n",
       "  'Mac Wiseman',\n",
       "  'Tammy Wynette',\n",
       "  'Faron Young',\n",
       "  'Hank Williams',\n",
       "  'Bob Wills',\n",
       "  'Mac Wiseman',\n",
       "  'Tammy Wynette',\n",
       "  'Faron Young',\n",
       "  'Hank Williams',\n",
       "  'Bob Wills',\n",
       "  'Mac Wiseman',\n",
       "  'Tammy Wynette',\n",
       "  'Faron Young'],\n",
       " ['1961',\n",
       "  '1968',\n",
       "  '2014',\n",
       "  '1998',\n",
       "  '2000',\n",
       "  '1961',\n",
       "  '1968',\n",
       "  '2014',\n",
       "  '1998',\n",
       "  '2000',\n",
       "  '1961',\n",
       "  '1968',\n",
       "  '2014',\n",
       "  '1998',\n",
       "  '2000',\n",
       "  '1961',\n",
       "  '1968',\n",
       "  '2014',\n",
       "  '1998',\n",
       "  '2000',\n",
       "  '1961',\n",
       "  '1968',\n",
       "  '2014',\n",
       "  '1998',\n",
       "  '2000',\n",
       "  '1961',\n",
       "  '1968',\n",
       "  '2014',\n",
       "  '1998',\n",
       "  '2000',\n",
       "  '1961',\n",
       "  '1968',\n",
       "  '2014',\n",
       "  '1998',\n",
       "  '2000',\n",
       "  '1961',\n",
       "  '1968',\n",
       "  '2014',\n",
       "  '1998',\n",
       "  '2000',\n",
       "  '1961',\n",
       "  '1968',\n",
       "  '2014',\n",
       "  '1998',\n",
       "  '2000',\n",
       "  '1961',\n",
       "  '1968',\n",
       "  '2014',\n",
       "  '1998',\n",
       "  '2000',\n",
       "  '1961',\n",
       "  '1968',\n",
       "  '2014',\n",
       "  '1998',\n",
       "  '2000',\n",
       "  '1961',\n",
       "  '1968',\n",
       "  '2014',\n",
       "  '1998',\n",
       "  '2000',\n",
       "  '1961',\n",
       "  '1968',\n",
       "  '2014',\n",
       "  '1998',\n",
       "  '2000',\n",
       "  '1961',\n",
       "  '1968',\n",
       "  '2014',\n",
       "  '1998',\n",
       "  '2000',\n",
       "  '1961',\n",
       "  '1968',\n",
       "  '2014',\n",
       "  '1998',\n",
       "  '2000',\n",
       "  '1961',\n",
       "  '1968',\n",
       "  '2014',\n",
       "  '1998',\n",
       "  '2000'])"
      ]
     },
     "execution_count": 53,
     "metadata": {},
     "output_type": "execute_result"
    }
   ],
   "source": [
    "artists_all = []\n",
    "years_all = []\n",
    "find_name = page_soup.find_all('div', attrs = {'class': 'vertical-card_content--title'})\n",
    "find_year = page_soup.find_all('div', attrs = {'class': 'vertical-card_content--copy'})\n",
    "rangen = len(find_name)\n",
    "rangey = len(find_year)\n",
    "\n",
    "for i in pages:\n",
    "    get_pages = requests.get(i)\n",
    "    page_soup = BeautifulSoup(get_pages.content, 'lxml')\n",
    "    for i in range(rangen):\n",
    "        name = find_name[i].text.replace(\"\\n\", \"\").strip()\n",
    "        artists_all.append(name) \n",
    "    for i in range(rangey):\n",
    "        years = find_year[i].text.replace(\"\\n\", \"\").replace(\"Inducted\", \"\").strip()\n",
    "        years_all.append(years)\n",
    "artists_all , years_all\n"
   ]
  },
  {
   "cell_type": "code",
   "execution_count": 12,
   "metadata": {},
   "outputs": [
    {
     "data": {
      "text/html": [
       "<div>\n",
       "<style scoped>\n",
       "    .dataframe tbody tr th:only-of-type {\n",
       "        vertical-align: middle;\n",
       "    }\n",
       "\n",
       "    .dataframe tbody tr th {\n",
       "        vertical-align: top;\n",
       "    }\n",
       "\n",
       "    .dataframe thead th {\n",
       "        text-align: right;\n",
       "    }\n",
       "</style>\n",
       "<table border=\"1\" class=\"dataframe\">\n",
       "  <thead>\n",
       "    <tr style=\"text-align: right;\">\n",
       "      <th></th>\n",
       "      <th>Name</th>\n",
       "      <th>Inducted</th>\n",
       "    </tr>\n",
       "  </thead>\n",
       "  <tbody>\n",
       "    <tr>\n",
       "      <th>0</th>\n",
       "      <td>Roy Acuff</td>\n",
       "      <td>1962</td>\n",
       "    </tr>\n",
       "    <tr>\n",
       "      <th>1</th>\n",
       "      <td>Alabama</td>\n",
       "      <td>2005</td>\n",
       "    </tr>\n",
       "    <tr>\n",
       "      <th>2</th>\n",
       "      <td>Bill Anderson</td>\n",
       "      <td>2001</td>\n",
       "    </tr>\n",
       "    <tr>\n",
       "      <th>3</th>\n",
       "      <td>Eddy Arnold</td>\n",
       "      <td>1966</td>\n",
       "    </tr>\n",
       "    <tr>\n",
       "      <th>4</th>\n",
       "      <td>Chet Atkins</td>\n",
       "      <td>1973</td>\n",
       "    </tr>\n",
       "    <tr>\n",
       "      <th>...</th>\n",
       "      <td>...</td>\n",
       "      <td>...</td>\n",
       "    </tr>\n",
       "    <tr>\n",
       "      <th>139</th>\n",
       "      <td>Chet Atkins</td>\n",
       "      <td>1973</td>\n",
       "    </tr>\n",
       "    <tr>\n",
       "      <th>140</th>\n",
       "      <td>Gene Autry</td>\n",
       "      <td>1969</td>\n",
       "    </tr>\n",
       "    <tr>\n",
       "      <th>141</th>\n",
       "      <td>DeFord Bailey</td>\n",
       "      <td>2005</td>\n",
       "    </tr>\n",
       "    <tr>\n",
       "      <th>142</th>\n",
       "      <td>Bobby Bare</td>\n",
       "      <td>2013</td>\n",
       "    </tr>\n",
       "    <tr>\n",
       "      <th>143</th>\n",
       "      <td>Johnny Bond</td>\n",
       "      <td>1999</td>\n",
       "    </tr>\n",
       "  </tbody>\n",
       "</table>\n",
       "<p>144 rows × 2 columns</p>\n",
       "</div>"
      ],
      "text/plain": [
       "              Name  Inducted\n",
       "0        Roy Acuff      1962\n",
       "1          Alabama      2005\n",
       "2    Bill Anderson      2001\n",
       "3      Eddy Arnold      1966\n",
       "4      Chet Atkins      1973\n",
       "..             ...       ...\n",
       "139    Chet Atkins      1973\n",
       "140     Gene Autry      1969\n",
       "141  DeFord Bailey      2005\n",
       "142     Bobby Bare      2013\n",
       "143    Johnny Bond      1999\n",
       "\n",
       "[144 rows x 2 columns]"
      ]
     },
     "execution_count": 12,
     "metadata": {},
     "output_type": "execute_result"
    }
   ],
   "source": [
    "hof_df =pd.DataFrame(list(zip(artists_all,years_all)),columns=['Name','Inducted'])\n",
    "hof_df['Inducted'] = pd.to_datetime(hof_df['Inducted']).dt.year\n",
    "hof_df"
   ]
  },
  {
   "cell_type": "code",
   "execution_count": 18,
   "metadata": {},
   "outputs": [
    {
     "data": {
      "image/png": "[encoded data removed]",
      "text/plain": [
       "<Figure size 432x288 with 1 Axes>"
      ]
     },
     "metadata": {
      "needs_background": "light"
     },
     "output_type": "display_data"
    }
   ],
   "source": [
    "hof_df_sorted = hof_df.sort_values('Inducted')\n",
    "plt.hist(hof_df_sorted['Inducted'],bins=7)\n",
    "plt.show()"
   ]
  },
  {
   "cell_type": "code",
   "execution_count": 25,
   "metadata": {},
   "outputs": [
    {
     "data": {
      "text/plain": [
       "<AxesSubplot:xlabel='Inducted'>"
      ]
     },
     "execution_count": 25,
     "metadata": {},
     "output_type": "execute_result"
    },
    {
     "data": {
      "image/png": "[encoded data removed]",
      "text/plain": [
       "<Figure size 432x288 with 1 Axes>"
      ]
     },
     "metadata": {},
     "output_type": "display_data"
    }
   ],
   "source": [
    "sns.set_theme(style='darkgrid')\n",
    "df.groupby(df.count().reset.index()\n",
    "sns.lineplot(x=\"Inducted\", y= ,data=hof_df)"
   ]
  },
  {
   "cell_type": "code",
   "execution_count": null,
   "metadata": {},
   "outputs": [],
   "source": []
  },
  {
   "cell_type": "code",
   "execution_count": null,
   "metadata": {},
   "outputs": [],
   "source": []
  },
  {
   "cell_type": "code",
   "execution_count": null,
   "metadata": {},
   "outputs": [],
   "source": []
  },
  {
   "cell_type": "code",
   "execution_count": null,
   "metadata": {},
   "outputs": [],
   "source": []
  },
  {
   "cell_type": "code",
   "execution_count": null,
   "metadata": {},
   "outputs": [],
   "source": []
  },
  {
   "cell_type": "code",
   "execution_count": null,
   "metadata": {},
   "outputs": [],
   "source": []
  },
  {
   "cell_type": "code",
   "execution_count": null,
   "metadata": {},
   "outputs": [],
   "source": []
  },
  {
   "cell_type": "code",
   "execution_count": null,
   "metadata": {
    "scrolled": true
   },
   "outputs": [],
   "source": [
    "\n"
   ]
  },
  {
   "cell_type": "code",
   "execution_count": null,
   "metadata": {},
   "outputs": [],
   "source": [
    "\n"
   ]
  },
  {
   "cell_type": "code",
   "execution_count": null,
   "metadata": {},
   "outputs": [],
   "source": []
  },
  {
   "cell_type": "code",
   "execution_count": null,
   "metadata": {},
   "outputs": [],
   "source": []
  },
  {
   "cell_type": "code",
   "execution_count": null,
   "metadata": {},
   "outputs": [],
   "source": []
  },
  {
   "cell_type": "code",
   "execution_count": null,
   "metadata": {},
   "outputs": [],
   "source": []
  },
  {
   "cell_type": "code",
   "execution_count": null,
   "metadata": {},
   "outputs": [],
   "source": [
    "\n"
   ]
  },
  {
   "cell_type": "code",
   "execution_count": null,
   "metadata": {},
   "outputs": [],
   "source": []
  }
 ],
 "metadata": {
  "kernelspec": {
   "display_name": "Python 3",
   "language": "python",
   "name": "python3"
  },
  "language_info": {
   "codemirror_mode": {
    "name": "ipython",
    "version": 3
   },
   "file_extension": ".py",
   "mimetype": "text/x-python",
   "name": "python",
   "nbconvert_exporter": "python",
   "pygments_lexer": "ipython3",
   "version": "3.8.5"
  }
 },
 "nbformat": 4,
 "nbformat_minor": 4
}
