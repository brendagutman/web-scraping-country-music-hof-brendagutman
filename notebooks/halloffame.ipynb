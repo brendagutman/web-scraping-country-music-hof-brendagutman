{
 "cells": [
  {
   "cell_type": "code",
   "execution_count": 1,
   "metadata": {},
   "outputs": [],
   "source": [
    "import requests\n",
    "from bs4 import BeautifulSoup  \n",
    "import pandas as pd\n",
    "import matplotlib.pyplot as plt\n",
    "import seaborn as sns"
   ]
  },
  {
   "cell_type": "markdown",
   "metadata": {},
   "source": [
    "# GET the webpage\n",
    "and check the status code to know it was successful"
   ]
  },
  {
   "cell_type": "code",
   "execution_count": 2,
   "metadata": {},
   "outputs": [
    {
     "data": {
      "text/plain": [
       "200"
      ]
     },
     "execution_count": 2,
     "metadata": {},
     "output_type": "execute_result"
    }
   ],
   "source": [
    "website_url = 'https://countrymusichalloffame.org/hall-of-fame/members/'\n",
    "response = requests.get(website_url)\n",
    "\n",
    "response.status_code"
   ]
  },
  {
   "cell_type": "markdown",
   "metadata": {},
   "source": [
    "# EXTRACT data from html "
   ]
  },
  {
   "cell_type": "code",
   "execution_count": 3,
   "metadata": {},
   "outputs": [
    {
     "name": "stdout",
     "output_type": "stream",
     "text": [
      "<title>Hall of Fame Members | Country Music Hall of Fame</title>\n"
     ]
    }
   ],
   "source": [
    "music = BeautifulSoup(response.content, 'lxml')\n",
    "print(music.title)"
   ]
  },
  {
   "cell_type": "markdown",
   "metadata": {},
   "source": [
    "# Place the data \n",
    "separate objects unless put into a list"
   ]
  },
  {
   "cell_type": "code",
   "execution_count": 4,
   "metadata": {
    "scrolled": true
   },
   "outputs": [
    {
     "data": {
      "text/plain": [
       "[<div class=\"vertical-card_content--title\">\n",
       " <h3>Roy Acuff</h3>\n",
       " </div>,\n",
       " <div class=\"vertical-card_content--title\">\n",
       " <h3>Alabama</h3>\n",
       " </div>,\n",
       " <div class=\"vertical-card_content--title\">\n",
       " <h3>Bill Anderson</h3>\n",
       " </div>,\n",
       " <div class=\"vertical-card_content--title\">\n",
       " <h3>Eddy Arnold</h3>\n",
       " </div>,\n",
       " <div class=\"vertical-card_content--title\">\n",
       " <h3>Chet Atkins</h3>\n",
       " </div>,\n",
       " <div class=\"vertical-card_content--title\">\n",
       " <h3>Gene Autry</h3>\n",
       " </div>,\n",
       " <div class=\"vertical-card_content--title\">\n",
       " <h3>DeFord Bailey</h3>\n",
       " </div>,\n",
       " <div class=\"vertical-card_content--title\">\n",
       " <h3>Bobby Bare</h3>\n",
       " </div>,\n",
       " <div class=\"vertical-card_content--title\">\n",
       " <h3>Johnny Bond</h3>\n",
       " </div>]"
      ]
     },
     "execution_count": 4,
     "metadata": {},
     "output_type": "execute_result"
    }
   ],
   "source": [
    "names = music.find_all('div', attrs = {'class': 'vertical-card_content--title'})\n",
    "names"
   ]
  },
  {
   "cell_type": "markdown",
   "metadata": {},
   "source": [
    "# Loop to clean data"
   ]
  },
  {
   "cell_type": "code",
   "execution_count": 5,
   "metadata": {},
   "outputs": [
    {
     "name": "stdout",
     "output_type": "stream",
     "text": [
      "['Roy Acuff', 'Alabama', 'Bill Anderson', 'Eddy Arnold', 'Chet Atkins', 'Gene Autry', 'DeFord Bailey', 'Bobby Bare', 'Johnny Bond']\n"
     ]
    },
    {
     "data": {
      "text/plain": [
       "bs4.element.ResultSet"
      ]
     },
     "execution_count": 5,
     "metadata": {},
     "output_type": "execute_result"
    }
   ],
   "source": [
    "artists = []\n",
    "for i in range(len(names)):\n",
    "    name = names[i].get_text().replace(\"\\n\", \"\")\n",
    "    artists.append(name)\n",
    "print(artists)\n",
    "type(names)"
   ]
  },
  {
   "cell_type": "markdown",
   "metadata": {},
   "source": [
    "# Again for the years"
   ]
  },
  {
   "cell_type": "markdown",
   "metadata": {},
   "source": [
    "year = []\n",
    "for element in x:\n",
    "    year.append(element.strip())\n",
    "\n",
    "print(year)\n",
    "\n"
   ]
  },
  {
   "cell_type": "markdown",
   "metadata": {},
   "source": [
    ".get_text()"
   ]
  },
  {
   "cell_type": "code",
   "execution_count": 6,
   "metadata": {
    "scrolled": true
   },
   "outputs": [
    {
     "data": {
      "text/plain": [
       "bs4.element.ResultSet"
      ]
     },
     "execution_count": 6,
     "metadata": {},
     "output_type": "execute_result"
    }
   ],
   "source": [
    "years = music.find_all('div', attrs = {'class': 'vertical-card_content--copy'})\n",
    "type(years)"
   ]
  },
  {
   "cell_type": "code",
   "execution_count": 7,
   "metadata": {},
   "outputs": [
    {
     "name": "stdout",
     "output_type": "stream",
     "text": [
      "['1962', '2005', '2001', '1966', '1973', '1969', '2005', '2013', '1999']\n"
     ]
    }
   ],
   "source": [
    "inducted = []\n",
    "for i in range(len(years)):\n",
    "    yr = years[i].get_text().replace(\"\\n\", \"\").replace(\"Inducted \", \"\").strip()\n",
    "    inducted.append(yr)\n",
    "print(inducted)"
   ]
  },
  {
   "cell_type": "markdown",
   "metadata": {},
   "source": [
    "# Make names and years into a df"
   ]
  },
  {
   "cell_type": "code",
   "execution_count": 8,
   "metadata": {},
   "outputs": [
    {
     "data": {
      "text/html": [
       "<div>\n",
       "<style scoped>\n",
       "    .dataframe tbody tr th:only-of-type {\n",
       "        vertical-align: middle;\n",
       "    }\n",
       "\n",
       "    .dataframe tbody tr th {\n",
       "        vertical-align: top;\n",
       "    }\n",
       "\n",
       "    .dataframe thead th {\n",
       "        text-align: right;\n",
       "    }\n",
       "</style>\n",
       "<table border=\"1\" class=\"dataframe\">\n",
       "  <thead>\n",
       "    <tr style=\"text-align: right;\">\n",
       "      <th></th>\n",
       "      <th>Name</th>\n",
       "      <th>Inducted</th>\n",
       "    </tr>\n",
       "  </thead>\n",
       "  <tbody>\n",
       "    <tr>\n",
       "      <th>0</th>\n",
       "      <td>Roy Acuff</td>\n",
       "      <td>1962</td>\n",
       "    </tr>\n",
       "    <tr>\n",
       "      <th>1</th>\n",
       "      <td>Alabama</td>\n",
       "      <td>2005</td>\n",
       "    </tr>\n",
       "    <tr>\n",
       "      <th>2</th>\n",
       "      <td>Bill Anderson</td>\n",
       "      <td>2001</td>\n",
       "    </tr>\n",
       "    <tr>\n",
       "      <th>3</th>\n",
       "      <td>Eddy Arnold</td>\n",
       "      <td>1966</td>\n",
       "    </tr>\n",
       "    <tr>\n",
       "      <th>4</th>\n",
       "      <td>Chet Atkins</td>\n",
       "      <td>1973</td>\n",
       "    </tr>\n",
       "    <tr>\n",
       "      <th>5</th>\n",
       "      <td>Gene Autry</td>\n",
       "      <td>1969</td>\n",
       "    </tr>\n",
       "    <tr>\n",
       "      <th>6</th>\n",
       "      <td>DeFord Bailey</td>\n",
       "      <td>2005</td>\n",
       "    </tr>\n",
       "    <tr>\n",
       "      <th>7</th>\n",
       "      <td>Bobby Bare</td>\n",
       "      <td>2013</td>\n",
       "    </tr>\n",
       "    <tr>\n",
       "      <th>8</th>\n",
       "      <td>Johnny Bond</td>\n",
       "      <td>1999</td>\n",
       "    </tr>\n",
       "  </tbody>\n",
       "</table>\n",
       "</div>"
      ],
      "text/plain": [
       "            Name Inducted\n",
       "0      Roy Acuff     1962\n",
       "1        Alabama     2005\n",
       "2  Bill Anderson     2001\n",
       "3    Eddy Arnold     1966\n",
       "4    Chet Atkins     1973\n",
       "5     Gene Autry     1969\n",
       "6  DeFord Bailey     2005\n",
       "7     Bobby Bare     2013\n",
       "8    Johnny Bond     1999"
      ]
     },
     "execution_count": 8,
     "metadata": {},
     "output_type": "execute_result"
    }
   ],
   "source": [
    "combo =pd.DataFrame(list(zip(artists,inducted)),columns=['Name','Inducted'])\n",
    "combo"
   ]
  },
  {
   "cell_type": "markdown",
   "metadata": {},
   "source": [
    "# Combine and GET all URLs"
   ]
  },
  {
   "cell_type": "code",
   "execution_count": 9,
   "metadata": {},
   "outputs": [
    {
     "data": {
      "text/plain": [
       "'https://countrymusichalloffame.org/hall-of-fame/members'"
      ]
     },
     "execution_count": 9,
     "metadata": {},
     "output_type": "execute_result"
    }
   ],
   "source": [
    "home_url = str('https://countrymusichalloffame.org/hall-of-fame/members')\n",
    "home_url"
   ]
  },
  {
   "cell_type": "code",
   "execution_count": 10,
   "metadata": {},
   "outputs": [
    {
     "data": {
      "text/plain": [
       "['https://countrymusichalloffame.org/hall-of-fame/members',\n",
       " 'https://countrymusichalloffame.org/hall-of-fame/members/page/2',\n",
       " 'https://countrymusichalloffame.org/hall-of-fame/members/page/3',\n",
       " 'https://countrymusichalloffame.org/hall-of-fame/members/page/4',\n",
       " 'https://countrymusichalloffame.org/hall-of-fame/members/page/5',\n",
       " 'https://countrymusichalloffame.org/hall-of-fame/members/page/6',\n",
       " 'https://countrymusichalloffame.org/hall-of-fame/members/page/7',\n",
       " 'https://countrymusichalloffame.org/hall-of-fame/members/page/8',\n",
       " 'https://countrymusichalloffame.org/hall-of-fame/members/page/9',\n",
       " 'https://countrymusichalloffame.org/hall-of-fame/members/page/10',\n",
       " 'https://countrymusichalloffame.org/hall-of-fame/members/page/11',\n",
       " 'https://countrymusichalloffame.org/hall-of-fame/members/page/12',\n",
       " 'https://countrymusichalloffame.org/hall-of-fame/members/page/13',\n",
       " 'https://countrymusichalloffame.org/hall-of-fame/members/page/14',\n",
       " 'https://countrymusichalloffame.org/hall-of-fame/members/page/15',\n",
       " 'https://countrymusichalloffame.org/hall-of-fame/members/page/16']"
      ]
     },
     "execution_count": 10,
     "metadata": {},
     "output_type": "execute_result"
    }
   ],
   "source": [
    "pages = [home_url]\n",
    "page = 2\n",
    "for n in range(15):\n",
    "    address = home_url+'/page/'+str(page)\n",
    "    pages.append(address)\n",
    "    page +=1\n",
    "for i in pages:\n",
    "    get_pages = requests.get(i)\n",
    "    page_soup = BeautifulSoup(get_pages.content, 'lxml')\n",
    "pages"
   ]
  },
  {
   "cell_type": "code",
   "execution_count": 11,
   "metadata": {},
   "outputs": [
    {
     "data": {
      "text/plain": [
       "(['Roy Acuff',\n",
       "  'Alabama',\n",
       "  'Bill Anderson',\n",
       "  'Eddy Arnold',\n",
       "  'Chet Atkins',\n",
       "  'Gene Autry',\n",
       "  'DeFord Bailey',\n",
       "  'Bobby Bare',\n",
       "  'Johnny Bond',\n",
       "  'Bobby Braddock',\n",
       "  'Harold Bradley',\n",
       "  'Jerry Bradley',\n",
       "  'Owen Bradley',\n",
       "  'Rod Brasfield',\n",
       "  'Garth Brooks',\n",
       "  'Brooks & Dunn',\n",
       "  'Jim Ed Brown',\n",
       "  'Jim Ed Brown and the Browns',\n",
       "  'Boudleaux and Felice Bryant',\n",
       "  'Glen Campbell',\n",
       "  'Bill Carlisle',\n",
       "  'Carter Family',\n",
       "  'Johnny Cash',\n",
       "  'Roy Clark',\n",
       "  'Cowboy Jack Clement',\n",
       "  'Patsy Cline',\n",
       "  'Hank Cochran',\n",
       "  'Paul Cohen',\n",
       "  'Floyd Cramer',\n",
       "  'Vernon Dalhart',\n",
       "  'Charlie Daniels',\n",
       "  'Jimmie Davis',\n",
       "  'Jimmy Dean',\n",
       "  'Delmore Brothers',\n",
       "  'Jim Denny',\n",
       "  'Little Jimmy Dickens',\n",
       "  'Ralph Emery',\n",
       "  'The Everly Brothers',\n",
       "  'Flatt And Scruggs',\n",
       "  'Jim Foglesong',\n",
       "  'Red Foley',\n",
       "  'Tennessee Ernie Ford',\n",
       "  'Fred Foster',\n",
       "  'Joseph Frank',\n",
       "  'Lefty Frizzell',\n",
       "  'Connie B. Gay',\n",
       "  'Don Gibson',\n",
       "  'Vince Gill',\n",
       "  'Johnny Gimble',\n",
       "  'Merle Haggard',\n",
       "  'Tom T. Hall',\n",
       "  'Emmylou Harris',\n",
       "  'George D. Hay',\n",
       "  'Homer and Jethro',\n",
       "  'Roy Horton',\n",
       "  'Harlan Howard',\n",
       "  'Ferlin Husky',\n",
       "  'Alan Jackson',\n",
       "  'Sonny James',\n",
       "  'Waylon Jennings',\n",
       "  'George Jones',\n",
       "  'Grandpa Jones',\n",
       "  'Jordanaires',\n",
       "  'Pee Wee King',\n",
       "  'Kris Kristofferson',\n",
       "  'Don Law',\n",
       "  'Brenda Lee',\n",
       "  'Hubert Long',\n",
       "  'The Louvin Brothers',\n",
       "  'Loretta Lynn',\n",
       "  'Uncle David Macon',\n",
       "  'Barbara Mandrell',\n",
       "  'Grady Martin',\n",
       "  'Charlie McCoy',\n",
       "  'Reba McEntire',\n",
       "  'Roger Miller',\n",
       "  'Ronnie Milsap',\n",
       "  'Bill Monroe',\n",
       "  'Patsy Montana',\n",
       "  'George Morgan',\n",
       "  'Ken Nelson',\n",
       "  'Willie Nelson',\n",
       "  'Oak Ridge Boys',\n",
       "  'Buck Owens',\n",
       "  'Dolly Parton',\n",
       "  'Minnie Pearl',\n",
       "  'Ralph Peer',\n",
       "  'Sam Phillips',\n",
       "  'Webb Pierce',\n",
       "  'Elvis Presley',\n",
       "  'Frances Preston',\n",
       "  'Ray Price',\n",
       "  'Charley Pride',\n",
       "  '\\u200bJerry Reed',\n",
       "  'Jim Reeves',\n",
       "  'Tex Ritter',\n",
       "  'Hargus “Pig” Robbins',\n",
       "  'Marty Robbins',\n",
       "  'Jimmie Rodgers',\n",
       "  'Kenny Rogers',\n",
       "  'Roy Rogers',\n",
       "  'Fred Rose',\n",
       "  'Wesley Rose',\n",
       "  'Arthur E. Satherley',\n",
       "  'Don Schlitz',\n",
       "  'Jean Shepard',\n",
       "  'Billy Sherrill',\n",
       "  'Stephen Sholes',\n",
       "  'Ricky Skaggs',\n",
       "  'Carl Smith',\n",
       "  'Connie Smith',\n",
       "  'Hank Snow',\n",
       "  'Sons of the Pioneers',\n",
       "  'Jack Stapp',\n",
       "  'Ray Stevens',\n",
       "  'Cliffie Stone',\n",
       "  'Ernest V. “Pop” Stoneman',\n",
       "  'George Strait',\n",
       "  'The Duke of Paducah',\n",
       "  'The Statler Brothers',\n",
       "  'Hank Thompson',\n",
       "  'Mel Tillis',\n",
       "  'Floyd Tillman',\n",
       "  'Merle Travis',\n",
       "  'Randy Travis',\n",
       "  'Ernest Tubb',\n",
       "  'Grant Turner',\n",
       "  'Conway Twitty',\n",
       "  'Porter Wagoner',\n",
       "  'Cindy Walker',\n",
       "  'Jo Walker-Meador',\n",
       "  'Kitty Wells',\n",
       "  'E. W. “Bud” Wendell',\n",
       "  'Dottie West',\n",
       "  'Don Williams',\n",
       "  'Hank Williams',\n",
       "  'Bob Wills',\n",
       "  'Mac Wiseman',\n",
       "  'Tammy Wynette',\n",
       "  'Faron Young'],\n",
       " ['1962',\n",
       "  '2005',\n",
       "  '2001',\n",
       "  '1966',\n",
       "  '1973',\n",
       "  '1969',\n",
       "  '2005',\n",
       "  '2013',\n",
       "  '1999',\n",
       "  '2011',\n",
       "  '2006',\n",
       "  '2019',\n",
       "  '1974',\n",
       "  '1987',\n",
       "  '2012',\n",
       "  '2019',\n",
       "  '2015',\n",
       "  '2015',\n",
       "  '1991',\n",
       "  '2005',\n",
       "  '2002',\n",
       "  '1970',\n",
       "  '1980',\n",
       "  '2009',\n",
       "  '2013',\n",
       "  '1973',\n",
       "  '2014',\n",
       "  '1976',\n",
       "  '2003',\n",
       "  '1981',\n",
       "  '2016',\n",
       "  '1972',\n",
       "  '2010',\n",
       "  '2001',\n",
       "  '1966',\n",
       "  '1983',\n",
       "  '2007',\n",
       "  '2001',\n",
       "  '1985',\n",
       "  '2004',\n",
       "  '1967',\n",
       "  '1990',\n",
       "  '2016',\n",
       "  '1967',\n",
       "  '1982',\n",
       "  '1980',\n",
       "  '2001',\n",
       "  '2007',\n",
       "  '2018',\n",
       "  '1994',\n",
       "  '2008',\n",
       "  '2008',\n",
       "  '1966',\n",
       "  '2001',\n",
       "  '1982',\n",
       "  '1997',\n",
       "  '2010',\n",
       "  '2017',\n",
       "  '2006',\n",
       "  '2001',\n",
       "  '1992',\n",
       "  '1978',\n",
       "  '2001',\n",
       "  '1974',\n",
       "  '2004',\n",
       "  '2001',\n",
       "  '1997',\n",
       "  '1979',\n",
       "  '2001',\n",
       "  '1988',\n",
       "  '1966',\n",
       "  '2009',\n",
       "  '2015',\n",
       "  '2009',\n",
       "  '2011',\n",
       "  '1995',\n",
       "  '2014',\n",
       "  '1970',\n",
       "  '1996',\n",
       "  '1998',\n",
       "  '2001',\n",
       "  '1993',\n",
       "  '2015',\n",
       "  '1996',\n",
       "  '1999',\n",
       "  '1975',\n",
       "  '1984',\n",
       "  '2001',\n",
       "  '2001',\n",
       "  '1998',\n",
       "  '1992',\n",
       "  '1996',\n",
       "  '2000',\n",
       "  '2017',\n",
       "  '1967',\n",
       "  '1964',\n",
       "  '2012',\n",
       "  '1982',\n",
       "  '1961',\n",
       "  '2013',\n",
       "  '1988',\n",
       "  '1961',\n",
       "  '1986',\n",
       "  '1971',\n",
       "  '2017',\n",
       "  '2011',\n",
       "  '2010',\n",
       "  '1967',\n",
       "  '2018',\n",
       "  '2003',\n",
       "  '2012',\n",
       "  '1979',\n",
       "  '1980',\n",
       "  '1989',\n",
       "  '2019',\n",
       "  '1989',\n",
       "  '2008',\n",
       "  '2006',\n",
       "  '1986',\n",
       "  '2008',\n",
       "  '1989',\n",
       "  '2007',\n",
       "  '1984',\n",
       "  '1977',\n",
       "  '2016',\n",
       "  '1965',\n",
       "  '1981',\n",
       "  '1999',\n",
       "  '2002',\n",
       "  '1997',\n",
       "  '1995',\n",
       "  '1976',\n",
       "  '1998',\n",
       "  '2018',\n",
       "  '2010',\n",
       "  '1961',\n",
       "  '1968',\n",
       "  '2014',\n",
       "  '1998',\n",
       "  '2000'])"
      ]
     },
     "execution_count": 11,
     "metadata": {},
     "output_type": "execute_result"
    }
   ],
   "source": [
    "artists_all = []\n",
    "years_all = []\n",
    "for i in pages:\n",
    "    get_pages = requests.get(i)\n",
    "    page_soup = BeautifulSoup(get_pages.content, 'lxml')\n",
    "    find_name = page_soup.find_all('div', attrs = {'class': 'vertical-card_content--title'})\n",
    "    find_year = page_soup.find_all('div', attrs = {'class': 'vertical-card_content--copy'})\n",
    "    rangen = len(find_name)\n",
    "    rangey = len(find_year)\n",
    "    for i in range(rangen):\n",
    "        name = find_name[i].text.replace(\"\\n\", \"\").strip()\n",
    "        artists_all.append(name) \n",
    "    for i in range(rangey):\n",
    "        years = find_year[i].text.replace(\"\\n\", \"\").replace(\"Inducted\", \"\").strip()\n",
    "        years_all.append(years)\n",
    "artists_all , years_all\n"
   ]
  },
  {
   "cell_type": "code",
   "execution_count": 12,
   "metadata": {},
   "outputs": [
    {
     "data": {
      "text/html": [
       "<div>\n",
       "<style scoped>\n",
       "    .dataframe tbody tr th:only-of-type {\n",
       "        vertical-align: middle;\n",
       "    }\n",
       "\n",
       "    .dataframe tbody tr th {\n",
       "        vertical-align: top;\n",
       "    }\n",
       "\n",
       "    .dataframe thead th {\n",
       "        text-align: right;\n",
       "    }\n",
       "</style>\n",
       "<table border=\"1\" class=\"dataframe\">\n",
       "  <thead>\n",
       "    <tr style=\"text-align: right;\">\n",
       "      <th></th>\n",
       "      <th>Name</th>\n",
       "      <th>Inducted</th>\n",
       "    </tr>\n",
       "  </thead>\n",
       "  <tbody>\n",
       "    <tr>\n",
       "      <th>0</th>\n",
       "      <td>Roy Acuff</td>\n",
       "      <td>1962</td>\n",
       "    </tr>\n",
       "    <tr>\n",
       "      <th>1</th>\n",
       "      <td>Alabama</td>\n",
       "      <td>2005</td>\n",
       "    </tr>\n",
       "    <tr>\n",
       "      <th>2</th>\n",
       "      <td>Bill Anderson</td>\n",
       "      <td>2001</td>\n",
       "    </tr>\n",
       "    <tr>\n",
       "      <th>3</th>\n",
       "      <td>Eddy Arnold</td>\n",
       "      <td>1966</td>\n",
       "    </tr>\n",
       "    <tr>\n",
       "      <th>4</th>\n",
       "      <td>Chet Atkins</td>\n",
       "      <td>1973</td>\n",
       "    </tr>\n",
       "    <tr>\n",
       "      <th>...</th>\n",
       "      <td>...</td>\n",
       "      <td>...</td>\n",
       "    </tr>\n",
       "    <tr>\n",
       "      <th>135</th>\n",
       "      <td>Hank Williams</td>\n",
       "      <td>1961</td>\n",
       "    </tr>\n",
       "    <tr>\n",
       "      <th>136</th>\n",
       "      <td>Bob Wills</td>\n",
       "      <td>1968</td>\n",
       "    </tr>\n",
       "    <tr>\n",
       "      <th>137</th>\n",
       "      <td>Mac Wiseman</td>\n",
       "      <td>2014</td>\n",
       "    </tr>\n",
       "    <tr>\n",
       "      <th>138</th>\n",
       "      <td>Tammy Wynette</td>\n",
       "      <td>1998</td>\n",
       "    </tr>\n",
       "    <tr>\n",
       "      <th>139</th>\n",
       "      <td>Faron Young</td>\n",
       "      <td>2000</td>\n",
       "    </tr>\n",
       "  </tbody>\n",
       "</table>\n",
       "<p>140 rows × 2 columns</p>\n",
       "</div>"
      ],
      "text/plain": [
       "              Name  Inducted\n",
       "0        Roy Acuff      1962\n",
       "1          Alabama      2005\n",
       "2    Bill Anderson      2001\n",
       "3      Eddy Arnold      1966\n",
       "4      Chet Atkins      1973\n",
       "..             ...       ...\n",
       "135  Hank Williams      1961\n",
       "136      Bob Wills      1968\n",
       "137    Mac Wiseman      2014\n",
       "138  Tammy Wynette      1998\n",
       "139    Faron Young      2000\n",
       "\n",
       "[140 rows x 2 columns]"
      ]
     },
     "execution_count": 12,
     "metadata": {},
     "output_type": "execute_result"
    }
   ],
   "source": [
    "hof_df =pd.DataFrame(list(zip(artists_all,years_all)),columns=['Name','Inducted'])\n",
    "hof_df['Inducted'] = pd.to_datetime(hof_df['Inducted']).dt.year\n",
    "hof_df"
   ]
  },
  {
   "cell_type": "code",
   "execution_count": 13,
   "metadata": {},
   "outputs": [
    {
     "ename": "NameError",
     "evalue": "name 'F0B23A' is not defined",
     "output_type": "error",
     "traceback": [
      "\u001b[1;31m---------------------------------------------------------------------------\u001b[0m",
      "\u001b[1;31mNameError\u001b[0m                                 Traceback (most recent call last)",
      "\u001b[1;32m<ipython-input-13-9b2de9e283e5>\u001b[0m in \u001b[0;36m<module>\u001b[1;34m\u001b[0m\n\u001b[0;32m      2\u001b[0m \u001b[0msns\u001b[0m\u001b[1;33m.\u001b[0m\u001b[0mpalplot\u001b[0m\u001b[1;33m(\u001b[0m\u001b[0mcustom_palette\u001b[0m\u001b[1;33m)\u001b[0m\u001b[1;33m\u001b[0m\u001b[1;33m\u001b[0m\u001b[0m\n\u001b[0;32m      3\u001b[0m \u001b[1;33m\u001b[0m\u001b[0m\n\u001b[1;32m----> 4\u001b[1;33m \u001b[0mpal_hls\u001b[0m \u001b[1;33m=\u001b[0m \u001b[0mF0B23A\u001b[0m\u001b[1;33m.\u001b[0m\u001b[0mas_hex\u001b[0m\u001b[1;33m(\u001b[0m\u001b[1;33m)\u001b[0m\u001b[1;33m\u001b[0m\u001b[1;33m\u001b[0m\u001b[0m\n\u001b[0m\u001b[0;32m      5\u001b[0m \u001b[0mprint\u001b[0m\u001b[1;33m(\u001b[0m\u001b[0mpal_hls\u001b[0m\u001b[1;33m)\u001b[0m\u001b[1;33m;\u001b[0m\u001b[1;33m\u001b[0m\u001b[1;33m\u001b[0m\u001b[0m\n",
      "\u001b[1;31mNameError\u001b[0m: name 'F0B23A' is not defined"
     ]
    },
    {
     "data": {
      "image/png": "[encoded data removed]",
      "text/plain": [
       "<Figure size 648x72 with 1 Axes>"
      ]
     },
     "metadata": {
      "needs_background": "light"
     },
     "output_type": "display_data"
    }
   ],
   "source": [
    "custom_palette = sns.color_palette(\"YlOrBr\", 9)\n",
    "sns.palplot(custom_palette)\n",
    "\n",
    "pal_hls = F0B23A.as_hex()\n",
    "print(pal_hls); "
   ]
  },
  {
   "cell_type": "code",
   "execution_count": 19,
   "metadata": {},
   "outputs": [
    {
     "data": {
      "image/png": "[encoded data removed]",
      "text/plain": [
       "<Figure size 432x288 with 1 Axes>"
      ]
     },
     "metadata": {},
     "output_type": "display_data"
    }
   ],
   "source": [
    "hof_df_sorted = hof_df.sort_values('Inducted')\n",
    "plt.hist(hof_df_sorted['Inducted'],bins=7, color = '#F0B23A')\n",
    "plt.xlabel('Year')\n",
    "plt.ylabel('Number Inducted')\n",
    "plt.title('Number of CM Hall of Fame Artists Inducted per Year')\n",
    "plt.grid(True)\n",
    "\n",
    "plt.savefig('../imgs/Count_orange1.png', transparent = True)\n",
    "plt.show()"
   ]
  },
  {
   "cell_type": "code",
   "execution_count": 18,
   "metadata": {},
   "outputs": [
    {
     "data": {
      "image/png": "[encoded data removed]",
      "text/plain": [
       "<Figure size 1296x720 with 1 Axes>"
      ]
     },
     "metadata": {},
     "output_type": "display_data"
    }
   ],
   "source": [
    "group = hof_df_sorted.groupby('Inducted').count().reset_index()\n",
    "group = group.rename({'Name': 'Count'}, axis=1)\n",
    "\n",
    "hof_df_sorted = hof_df.sort_values('Inducted')\n",
    "plt.figure(figsize=(18,10))\n",
    "plt.bar(group['Inducted'],height = group['Count'],  color = '#F0B23A', edgecolor = custom_palette[8], width = 1)\n",
    "plt.xlabel('Year',fontsize=30)\n",
    "plt.ylabel('Number Inducted',fontsize=30)\n",
    "plt.title('Country Music Hall of Fame',fontsize=50)\n",
    "plt.grid(True, color = 'grey')\n",
    "plt.xticks(fontsize=30)\n",
    "\n",
    "plt.savefig('../imgs/Count_orange2.png', transparent = True)\n",
    "plt.show()"
   ]
  },
  {
   "cell_type": "code",
   "execution_count": null,
   "metadata": {},
   "outputs": [],
   "source": []
  },
  {
   "cell_type": "code",
   "execution_count": null,
   "metadata": {},
   "outputs": [],
   "source": []
  },
  {
   "cell_type": "code",
   "execution_count": null,
   "metadata": {},
   "outputs": [],
   "source": []
  },
  {
   "cell_type": "code",
   "execution_count": null,
   "metadata": {},
   "outputs": [],
   "source": []
  },
  {
   "cell_type": "code",
   "execution_count": null,
   "metadata": {},
   "outputs": [],
   "source": []
  },
  {
   "cell_type": "code",
   "execution_count": null,
   "metadata": {},
   "outputs": [],
   "source": []
  },
  {
   "cell_type": "code",
   "execution_count": null,
   "metadata": {},
   "outputs": [],
   "source": []
  },
  {
   "cell_type": "code",
   "execution_count": null,
   "metadata": {},
   "outputs": [],
   "source": []
  },
  {
   "cell_type": "code",
   "execution_count": null,
   "metadata": {
    "scrolled": true
   },
   "outputs": [],
   "source": [
    "\n"
   ]
  },
  {
   "cell_type": "code",
   "execution_count": null,
   "metadata": {},
   "outputs": [],
   "source": [
    "\n"
   ]
  },
  {
   "cell_type": "code",
   "execution_count": null,
   "metadata": {},
   "outputs": [],
   "source": []
  },
  {
   "cell_type": "code",
   "execution_count": null,
   "metadata": {},
   "outputs": [],
   "source": []
  },
  {
   "cell_type": "code",
   "execution_count": null,
   "metadata": {},
   "outputs": [],
   "source": []
  },
  {
   "cell_type": "code",
   "execution_count": null,
   "metadata": {},
   "outputs": [],
   "source": []
  },
  {
   "cell_type": "code",
   "execution_count": null,
   "metadata": {},
   "outputs": [],
   "source": [
    "\n"
   ]
  },
  {
   "cell_type": "code",
   "execution_count": null,
   "metadata": {},
   "outputs": [],
   "source": []
  }
 ],
 "metadata": {
  "kernelspec": {
   "display_name": "Python 3",
   "language": "python",
   "name": "python3"
  },
  "language_info": {
   "codemirror_mode": {
    "name": "ipython",
    "version": 3
   },
   "file_extension": ".py",
   "mimetype": "text/x-python",
   "name": "python",
   "nbconvert_exporter": "python",
   "pygments_lexer": "ipython3",
   "version": "3.8.5"
  }
 },
 "nbformat": 4,
 "nbformat_minor": 4
}
